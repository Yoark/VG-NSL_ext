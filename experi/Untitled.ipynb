{
 "cells": [
  {
   "cell_type": "code",
   "execution_count": 1,
   "metadata": {},
   "outputs": [
    {
     "name": "stdout",
     "output_type": "stream",
     "text": [
      "TREE_NEW.zip                        pmi_dists2_1.5_.pkl\r\n",
      "Untitled.ipynb                      tree.zip\r\n",
      "pmi.pkl                             tree12.txt\r\n",
      "pmi_dists.pkl                       tree_0.8_new.txt\r\n",
      "pmi_dists2.pkl                      tree_12_new.txt\r\n",
      "pmi_dists2_0.5_.pkl                 tree_8.txt\r\n",
      "pmi_dists2_0.6111111111111112_.pkl  tree_bert_new.txt\r\n",
      "pmi_dists2_0.7222222222222222_.pkl  tree_hi.txt\r\n",
      "pmi_dists2_0.8333333333333333_.pkl  tree_new_changed_reward.txt\r\n",
      "pmi_dists2_0.9444444444444444_.pkl  tree_normal.txt\r\n",
      "pmi_dists2_1.0555555555555556_.pkl  tree_plain_bert.txt\r\n",
      "pmi_dists2_1.1666666666666665_.pkl  tree_re_4.txt\r\n",
      "pmi_dists2_1.2777777777777777_.pkl  trees.zip\r\n",
      "pmi_dists2_1.3888888888888888_.pkl\r\n"
     ]
    }
   ],
   "source": [
    "ls"
   ]
  },
  {
   "cell_type": "code",
   "execution_count": 2,
   "metadata": {},
   "outputs": [],
   "source": [
    "with open('tree_plain_bert.txt','r') as f:\n",
    "    lines = []\n",
    "    for line in f:\n",
    "        lines.append(line.strip())"
   ]
  },
  {
   "cell_type": "code",
   "execution_count": 11,
   "metadata": {},
   "outputs": [],
   "source": [
    "tree = lines[0]\n",
    "current = tree\n",
    "for i,c in enumerate(tree):\n",
    "    if c != '[' && c == '('\n",
    "        current = current[1:]\n",
    "        for i, c in enumerate(current):\n",
    "            if c == ')':\n",
    "                current = current[]\n",
    "    elif c == '[':\n",
    "        current = '(' + current +')'\n",
    "        break\n",
    "        "
   ]
  },
  {
   "cell_type": "code",
   "execution_count": 12,
   "metadata": {},
   "outputs": [
    {
     "data": {
      "text/plain": [
       "'( ( ( ( ( ( ( ( ( ( ( ( ( ( ( ( ( ( ( ( ( ( [CLS] a ) man ) ( ( with a ) ( ( red helmet ) ( ( ( ( on a ) small ) mo ) ( ( ( ( ( ##ped on ) ( a dirt ) ) road ) . ) [SEP] ) ) ) ) ) [PAD] ) [PAD] ) [PAD] ) [PAD] ) [PAD] ) [PAD] ) [PAD] ) [PAD] ) [PAD] ) [PAD] ) [PAD] ) [PAD] ) [PAD] ) [PAD] ) [PAD] ) [PAD] ) [PAD] ) [PAD] ) [PAD] )'"
      ]
     },
     "execution_count": 12,
     "metadata": {},
     "output_type": "execute_result"
    }
   ],
   "source": [
    "tree"
   ]
  },
  {
   "cell_type": "code",
   "execution_count": 13,
   "metadata": {},
   "outputs": [
    {
     "data": {
      "text/plain": [
       "'([CLS] a ) man ) ( ( with a ) ( ( red helmet ) ( ( ( ( on a ) small ) mo ) ( ( ( ( ( ##ped on ) ( a dirt ) ) road ) . ) [SEP] ) ) ) ) ) [PAD] ) [PAD] ) [PAD] ) [PAD] ) [PAD] ) [PAD] ) [PAD] ) [PAD] ))'"
      ]
     },
     "execution_count": 13,
     "metadata": {},
     "output_type": "execute_result"
    }
   ],
   "source": [
    "current"
   ]
  },
  {
   "cell_type": "code",
   "execution_count": null,
   "metadata": {},
   "outputs": [],
   "source": []
  }
 ],
 "metadata": {
  "kernelspec": {
   "display_name": "Python 3",
   "language": "python",
   "name": "python3"
  },
  "language_info": {
   "codemirror_mode": {
    "name": "ipython",
    "version": 3
   },
   "file_extension": ".py",
   "mimetype": "text/x-python",
   "name": "python",
   "nbconvert_exporter": "python",
   "pygments_lexer": "ipython3",
   "version": "3.7.3"
  }
 },
 "nbformat": 4,
 "nbformat_minor": 2
}
